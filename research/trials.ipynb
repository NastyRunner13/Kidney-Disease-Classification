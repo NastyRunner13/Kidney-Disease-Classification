{
 "cells": [
  {
   "cell_type": "code",
   "execution_count": 8,
   "metadata": {},
   "outputs": [],
   "source": [
    "import gdown"
   ]
  },
  {
   "cell_type": "code",
   "execution_count": 9,
   "metadata": {},
   "outputs": [
    {
     "name": "stdout",
     "output_type": "stream",
     "text": [
      "1-BMWOhUFcdp3onAFbxTXdezmEmdn0F6P\n"
     ]
    }
   ],
   "source": [
    "url = \"https://drive.google.com/file/d/1-BMWOhUFcdp3onAFbxTXdezmEmdn0F6P/view?usp=sharing\"\n",
    "file_id = url.split(\"/\")[-2]\n",
    "print(file_id)"
   ]
  },
  {
   "cell_type": "code",
   "execution_count": 10,
   "metadata": {},
   "outputs": [
    {
     "name": "stderr",
     "output_type": "stream",
     "text": [
      "Downloading...\n",
      "From (original): https://drive.google.com/uc?/export=download&id=1-BMWOhUFcdp3onAFbxTXdezmEmdn0F6P\n",
      "From (redirected): https://drive.google.com/uc?%2Fexport=download&id=1-BMWOhUFcdp3onAFbxTXdezmEmdn0F6P&confirm=t&uuid=3a8d660a-8967-45c7-afe5-1e8c6992a1a8\n",
      "To: c:\\Users\\princ\\Desktop\\Deep Learning\\PROJECTS\\Kidney-Disease-Classification\\research\\Kidney-CT-Scan-data.zip\n",
      "100%|██████████| 941M/941M [04:05<00:00, 3.83MB/s] \n"
     ]
    },
    {
     "data": {
      "text/plain": [
       "'Kidney-CT-Scan-data.zip'"
      ]
     },
     "execution_count": 10,
     "metadata": {},
     "output_type": "execute_result"
    }
   ],
   "source": [
    "prefix = \"https://drive.google.com/uc?/export=download&id=\"\n",
    "gdown.download(prefix + file_id, \"Kidney-CT-Scan-data.zip\")"
   ]
  }
 ],
 "metadata": {
  "kernelspec": {
   "display_name": "env",
   "language": "python",
   "name": "python3"
  },
  "language_info": {
   "codemirror_mode": {
    "name": "ipython",
    "version": 3
   },
   "file_extension": ".py",
   "mimetype": "text/x-python",
   "name": "python",
   "nbconvert_exporter": "python",
   "pygments_lexer": "ipython3",
   "version": "3.10.6"
  }
 },
 "nbformat": 4,
 "nbformat_minor": 2
}
